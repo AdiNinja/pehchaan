{
 "cells": [
  {
   "cell_type": "code",
   "execution_count": null,
   "metadata": {
    "collapsed": false,
    "deletable": true,
    "editable": true
   },
   "outputs": [],
   "source": [
    "import os\n",
    "import time\n",
    "import pickle\n",
    "import multiprocessing\n",
    "\n",
    "from PIL import Image\n",
    "\n",
    "import numpy as np\n",
    "import matplotlib.pyplot as pplt\n",
    "import matplotlib.cm as cmap\n",
    "import pandas as pd\n",
    "\n",
    "from sklearn import datasets\n",
    "from sklearn import preprocessing\n",
    "from sklearn import model_selection\n",
    "from sklearn import metrics\n",
    "from sklearn import neural_network as nn\n",
    "\n",
    "from sklearn import svm\n",
    "from sklearn.multiclass import OneVsRestClassifier as OVRC\n",
    "from sklearn.ensemble import BaggingClassifier as BC\n",
    "\n",
    "% matplotlib inline"
   ]
  },
  {
   "cell_type": "code",
   "execution_count": null,
   "metadata": {
    "collapsed": false,
    "deletable": true,
    "editable": true
   },
   "outputs": [],
   "source": [
    "RELPATH_DATA             = 'data'\n",
    "RELPATH_TRAIN            = os.path.join(RELPATH_DATA, 'train.csv')\n",
    "RELPATH_TEST             = os.path.join(RELPATH_DATA, 'test.csv')\n",
    "\n",
    "DEVANAGARI_DIGIT_CHARSET = ['०','१','२','३','४','५','६','७','८','९']"
   ]
  },
  {
   "cell_type": "code",
   "execution_count": null,
   "metadata": {
    "collapsed": false,
    "deletable": true,
    "editable": true
   },
   "outputs": [],
   "source": [
    "NUM_CORES                = multiprocessing.cpu_count() - 2\n",
    "NUM_CORES"
   ]
  },
  {
   "cell_type": "code",
   "execution_count": null,
   "metadata": {
    "collapsed": false,
    "deletable": true,
    "editable": true
   },
   "outputs": [],
   "source": [
    "data   = pd.concat([pd.read_csv(RELPATH_TRAIN), pd.read_csv(RELPATH_TEST)])"
   ]
  },
  {
   "cell_type": "code",
   "execution_count": null,
   "metadata": {
    "collapsed": true,
    "deletable": true,
    "editable": true
   },
   "outputs": [],
   "source": [
    "sample = data.sample()"
   ]
  },
  {
   "cell_type": "code",
   "execution_count": null,
   "metadata": {
    "collapsed": false,
    "deletable": true,
    "editable": true
   },
   "outputs": [],
   "source": [
    "sample.sample()"
   ]
  },
  {
   "cell_type": "code",
   "execution_count": null,
   "metadata": {
    "collapsed": false,
    "deletable": true,
    "editable": true
   },
   "outputs": [],
   "source": [
    "arr = np.array(sample.ix[:,:-1])\n",
    "arr = np.reshape(arr, (32, 32))"
   ]
  },
  {
   "cell_type": "code",
   "execution_count": null,
   "metadata": {
    "collapsed": false,
    "deletable": true,
    "editable": true
   },
   "outputs": [],
   "source": [
    "pplt.imshow(arr, cmap = cmap.gray)"
   ]
  },
  {
   "cell_type": "code",
   "execution_count": null,
   "metadata": {
    "collapsed": true,
    "deletable": true,
    "editable": true
   },
   "outputs": [],
   "source": [
    "digits   = data[data['character'].isin(DEVANAGARI_DIGIT_CHARSET)]\n",
    "X, y     = digits.ix[:,:-1], digits.ix[:,-1]"
   ]
  },
  {
   "cell_type": "code",
   "execution_count": null,
   "metadata": {
    "collapsed": true,
    "deletable": true,
    "editable": true
   },
   "outputs": [],
   "source": [
    "# X, y     = data.ix[:,:-1], data.ix[:,-1]"
   ]
  },
  {
   "cell_type": "code",
   "execution_count": null,
   "metadata": {
    "collapsed": false,
    "deletable": true,
    "editable": true
   },
   "outputs": [],
   "source": [
    "encoder  = preprocessing.LabelEncoder()\n",
    "y        = encoder.fit_transform(y)"
   ]
  },
  {
   "cell_type": "code",
   "execution_count": null,
   "metadata": {
    "collapsed": true,
    "deletable": true,
    "editable": true
   },
   "outputs": [],
   "source": [
    "with open('DHCD-LE.pkl', 'wb') as f:\n",
    "    pickle.dump(encoder, f)"
   ]
  },
  {
   "cell_type": "code",
   "execution_count": null,
   "metadata": {
    "collapsed": false,
    "deletable": true,
    "editable": true
   },
   "outputs": [],
   "source": [
    "Xtrain, Xtest, ytrain, ytest = model_selection.train_test_split(X, y, train_size = 0.60)"
   ]
  },
  {
   "cell_type": "code",
   "execution_count": null,
   "metadata": {
    "collapsed": false,
    "deletable": true,
    "editable": true
   },
   "outputs": [],
   "source": [
    "def stratified_cross_validate(X, y, class_, n_folds = 10, *args, **kwargs):\n",
    "    model      = class_(*args, **kwargs)\n",
    "    crossval   = model_selection.StratifiedKFold(n_splits = n_folds)\n",
    "    accuracy   = 0\n",
    "    \n",
    "    accuracies = [ ]    \n",
    "    for ii, jj in crossval.split(X, y):\n",
    "        Xtrain, Xtest = X[ii], X[jj]\n",
    "        ytrain, ytest = y[ii], y[jj]\n",
    "        \n",
    "        model         = model.fit(Xtrain, ytrain)\n",
    "        predict       = model.predict(Xtest)\n",
    "        acc           = metrics.accuracy_score(ytest, predict)\n",
    "        accuracy     += acc\n",
    "        \n",
    "        accuracies.append(acc)\n",
    "    \n",
    "    figure = pplt.figure(figsize = (20, 15))\n",
    "    axes   = figure.add_subplot(111)\n",
    "    axes.plot(list(range(1, n_folds + 1)), accuracies)\n",
    "    \n",
    "    return figure, axes, (accuracy / n_folds), model\n",
    "#     return (accuracy / n_folds), model"
   ]
  },
  {
   "cell_type": "code",
   "execution_count": null,
   "metadata": {
    "collapsed": false,
    "deletable": true,
    "editable": true
   },
   "outputs": [],
   "source": [
    "pplt.style.use('fivethirtyeight')\n",
    "\n",
    "start               = time.time()\n",
    "fig, ax, acc, model = stratified_cross_validate(np.asarray(Xtrain), np.asarray(ytrain), svm.SVC, verbose = 3)\n",
    "end                 = time.time()\n",
    "# acc, model = stratified_cross_validate(np.asarray(Xtrain), np.asarray(ytrain), svm.SVC, verbose = 3)\n",
    "\n",
    "print('time ellapsed: %.2fs' % (end - start))"
   ]
  },
  {
   "cell_type": "code",
   "execution_count": null,
   "metadata": {
    "collapsed": false,
    "deletable": true,
    "editable": true
   },
   "outputs": [],
   "source": [
    "acc"
   ]
  },
  {
   "cell_type": "code",
   "execution_count": null,
   "metadata": {
    "collapsed": false,
    "deletable": true,
    "editable": true
   },
   "outputs": [],
   "source": [
    "predict = model.predict(Xtest)"
   ]
  },
  {
   "cell_type": "code",
   "execution_count": null,
   "metadata": {
    "collapsed": false,
    "deletable": true,
    "editable": true
   },
   "outputs": [],
   "source": [
    "overacc = metrics.accuracy_score(ytest, predict)\n",
    "overacc"
   ]
  },
  {
   "cell_type": "code",
   "execution_count": null,
   "metadata": {
    "collapsed": true,
    "deletable": true,
    "editable": true
   },
   "outputs": [],
   "source": [
    "with open('SVC-{crossacc},10-{accuracy},0.60.pkl'.format(crossacc = acc, accuracy = overacc), 'wb') as f:\n",
    "    pickle.dump(model, f)"
   ]
  }
 ],
 "metadata": {
  "kernelspec": {
   "display_name": "Python 3",
   "language": "python",
   "name": "python3"
  },
  "language_info": {
   "codemirror_mode": {
    "name": "ipython",
    "version": 3
   },
   "file_extension": ".py",
   "mimetype": "text/x-python",
   "name": "python",
   "nbconvert_exporter": "python",
   "pygments_lexer": "ipython3",
   "version": "3.5.2"
  }
 },
 "nbformat": 4,
 "nbformat_minor": 2
}
